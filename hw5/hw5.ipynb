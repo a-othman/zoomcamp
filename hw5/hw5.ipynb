{
 "cells": [
  {
   "cell_type": "code",
   "execution_count": 2,
   "id": "622f77d1",
   "metadata": {},
   "outputs": [],
   "source": [
    "import pyspark\n",
    "from pyspark.sql import SparkSession \n",
    "from pyspark.sql.functions import *\n",
    "from pyspark.sql.types import StructType, StructField, StringType, IntegerType, DateType, TimestampType\n",
    "spark= SparkSession.builder.master('local[*]').appName('test').getOrCreate()"
   ]
  },
  {
   "cell_type": "markdown",
   "id": "0fc0d18a",
   "metadata": {},
   "source": [
    "### Answers to hw 5 questions: \n",
    "\n",
    "\n",
    "##### q1: 3.3.2\n",
    "\n",
    "##### q2: 24MB\n",
    "\n",
    "##### q3: 452470\n",
    "\n",
    "##### q4: 66.87\n",
    "\n",
    "##### q5: 4040\n",
    "\n",
    "##### q6:  Crown Heights North"
   ]
  },
  {
   "cell_type": "markdown",
   "id": "ddf109e7",
   "metadata": {},
   "source": [
    "### Qestion 2:"
   ]
  },
  {
   "cell_type": "code",
   "execution_count": 3,
   "id": "2340196d",
   "metadata": {},
   "outputs": [
    {
     "name": "stdout",
     "output_type": "stream",
     "text": [
      "root\n",
      " |-- dispatching_base_num: string (nullable = true)\n",
      " |-- pickup_datetime: timestamp (nullable = true)\n",
      " |-- dropoff_datetime: timestamp (nullable = true)\n",
      " |-- PULocationID: integer (nullable = true)\n",
      " |-- DOLocationID: integer (nullable = true)\n",
      " |-- SR_Flag: string (nullable = true)\n",
      " |-- Affiliated_base_number: string (nullable = true)\n",
      "\n"
     ]
    },
    {
     "name": "stderr",
     "output_type": "stream",
     "text": [
      "\r",
      "[Stage 0:>                                                          (0 + 1) / 1]\r"
     ]
    },
    {
     "name": "stdout",
     "output_type": "stream",
     "text": [
      "23/03/04 17:54:28 WARN MemoryManager: Total allocation exceeds 95.00% (1,020,054,720 bytes) of heap memory\n",
      "Scaling row group sizes to 95.00% for 8 writers\n"
     ]
    },
    {
     "name": "stderr",
     "output_type": "stream",
     "text": [
      "                                                                                \r"
     ]
    }
   ],
   "source": [
    "schema= StructType([\n",
    "    StructField('dispatching_base_num', StringType(), True),\n",
    "    StructField('pickup_datetime', TimestampType(), True),\n",
    "    StructField('dropoff_datetime', TimestampType(), True),\n",
    "    StructField('PULocationID', IntegerType(), True), \n",
    "    StructField('DOLocationID', IntegerType(), True), \n",
    "    StructField('SR_Flag', StringType(), True),\n",
    "    StructField('Affiliated_base_number', StringType(), True)\n",
    "    ])\n",
    "\n",
    "df= spark.read.schema(schema).option('header', 'true').csv('fhvhv_tripdata_2021-06.csv.gz')\n",
    "df.printSchema()\n",
    "\n",
    "\n",
    "df= df.repartition(12)\n",
    "\n",
    "df.write.mode('overwrite').parquet('fhvhv/2021/06')"
   ]
  },
  {
   "cell_type": "markdown",
   "id": "0f0757bc",
   "metadata": {},
   "source": [
    "### Qestion 3:"
   ]
  },
  {
   "cell_type": "code",
   "execution_count": 4,
   "id": "d7b39c5f",
   "metadata": {},
   "outputs": [],
   "source": [
    "df_partitioned= spark.read.parquet('fhvhv/*/*') "
   ]
  },
  {
   "cell_type": "code",
   "execution_count": 6,
   "id": "fe87a947",
   "metadata": {},
   "outputs": [
    {
     "name": "stderr",
     "output_type": "stream",
     "text": [
      "                                                                                \r"
     ]
    },
    {
     "data": {
      "text/plain": [
       "452470"
      ]
     },
     "execution_count": 6,
     "metadata": {},
     "output_type": "execute_result"
    }
   ],
   "source": [
    "\n",
    "df_partitioned= df_partitioned.withColumn('pickup_date', to_date('pickup_datetime'))\n",
    "\n",
    "df_partitioned.filter(df_partitioned.pickup_date=='2021-06-15').count()"
   ]
  },
  {
   "cell_type": "markdown",
   "id": "64d0d540",
   "metadata": {},
   "source": [
    "### question 4:"
   ]
  },
  {
   "cell_type": "code",
   "execution_count": 7,
   "id": "4d62436e",
   "metadata": {},
   "outputs": [
    {
     "name": "stdout",
     "output_type": "stream",
     "text": [
      "+------------------+\n",
      "|max(trip_duration)|\n",
      "+------------------+\n",
      "|  66.8788888888889|\n",
      "+------------------+\n",
      "\n"
     ]
    }
   ],
   "source": [
    "df_partitioned= df_partitioned.withColumn('trip_duration', \\\n",
    "                (unix_timestamp('dropoff_datetime')-unix_timestamp('pickup_datetime'))/3600)\n",
    "\n",
    "# df.select(max(df.fee)).show()\n",
    "df_partitioned.select(max(df_partitioned.trip_duration)).show()\n",
    "# df_partitioned.filter(df_partitioned.trip_duration==df_partitioned.select(max(df_partitioned.trip_duration))).show()"
   ]
  },
  {
   "cell_type": "code",
   "execution_count": 8,
   "id": "8333689b",
   "metadata": {},
   "outputs": [
    {
     "name": "stdout",
     "output_type": "stream",
     "text": [
      "+--------------------+-------------------+-------------------+------------+------------+-------+----------------------+-----------+-------------------+\n",
      "|dispatching_base_num|    pickup_datetime|   dropoff_datetime|PULocationID|DOLocationID|SR_Flag|Affiliated_base_number|pickup_date|      trip_duration|\n",
      "+--------------------+-------------------+-------------------+------------+------------+-------+----------------------+-----------+-------------------+\n",
      "|              B02877|2021-06-11 12:28:02|2021-06-11 12:36:01|         230|          43|      N|                B02877| 2021-06-11|0.13305555555555557|\n",
      "|              B02765|2021-06-13 08:46:22|2021-06-13 09:03:00|          37|          61|      N|                B02765| 2021-06-13| 0.2772222222222222|\n",
      "|              B02510|2021-06-28 18:39:27|2021-06-28 18:50:53|         231|          79|      N|                  null| 2021-06-28|0.19055555555555556|\n",
      "+--------------------+-------------------+-------------------+------------+------------+-------+----------------------+-----------+-------------------+\n",
      "only showing top 3 rows\n",
      "\n"
     ]
    }
   ],
   "source": [
    "df_partitioned.show(3)"
   ]
  },
  {
   "cell_type": "markdown",
   "id": "c34a1583",
   "metadata": {},
   "source": [
    "### question 6:"
   ]
  },
  {
   "cell_type": "code",
   "execution_count": 9,
   "id": "ab0975e0",
   "metadata": {},
   "outputs": [
    {
     "name": "stdout",
     "output_type": "stream",
     "text": [
      "--2023-03-04 17:56:17--  https://s3.amazonaws.com/nyc-tlc/misc/taxi+_zone_lookup.csv\n",
      "Resolving s3.amazonaws.com (s3.amazonaws.com)... 52.216.28.134, 52.217.39.206, 52.216.176.61, ...\n",
      "Connecting to s3.amazonaws.com (s3.amazonaws.com)|52.216.28.134|:443... connected.\n",
      "HTTP request sent, awaiting response... 200 OK\n",
      "Length: 12322 (12K) [application/octet-stream]\n",
      "Saving to: ‘taxi+_zone_lookup.csv.1’\n",
      "\n",
      "taxi+_zone_lookup.c 100%[===================>]  12.03K  --.-KB/s    in 0.001s  \n",
      "\n",
      "2023-03-04 17:56:18 (22.5 MB/s) - ‘taxi+_zone_lookup.csv.1’ saved [12322/12322]\n",
      "\n"
     ]
    }
   ],
   "source": [
    "!wget https://s3.amazonaws.com/nyc-tlc/misc/taxi+_zone_lookup.csv"
   ]
  },
  {
   "cell_type": "code",
   "execution_count": 10,
   "id": "20cec7b2",
   "metadata": {},
   "outputs": [
    {
     "name": "stdout",
     "output_type": "stream",
     "text": [
      "+----------+-------------+--------------------+------------+\n",
      "|LocationID|      Borough|                Zone|service_zone|\n",
      "+----------+-------------+--------------------+------------+\n",
      "|         1|          EWR|      Newark Airport|         EWR|\n",
      "|         2|       Queens|         Jamaica Bay|   Boro Zone|\n",
      "|         3|        Bronx|Allerton/Pelham G...|   Boro Zone|\n",
      "|         4|    Manhattan|       Alphabet City| Yellow Zone|\n",
      "|         5|Staten Island|       Arden Heights|   Boro Zone|\n",
      "+----------+-------------+--------------------+------------+\n",
      "only showing top 5 rows\n",
      "\n"
     ]
    }
   ],
   "source": [
    "zones= spark.read.option('header', 'true').csv('taxi+_zone_lookup.csv')\n",
    "zones.show(5)"
   ]
  },
  {
   "cell_type": "code",
   "execution_count": 11,
   "id": "32a8aa9d",
   "metadata": {},
   "outputs": [
    {
     "name": "stderr",
     "output_type": "stream",
     "text": [
      "\r",
      "[Stage 14:======================================>                  (8 + 4) / 12]\r"
     ]
    },
    {
     "name": "stdout",
     "output_type": "stream",
     "text": [
      "+-------------------+------+\n",
      "|               Zone| count|\n",
      "+-------------------+------+\n",
      "|Crown Heights North|231279|\n",
      "|       East Village|221244|\n",
      "|        JFK Airport|188867|\n",
      "|     Bushwick South|187929|\n",
      "+-------------------+------+\n",
      "only showing top 4 rows\n",
      "\n"
     ]
    },
    {
     "name": "stderr",
     "output_type": "stream",
     "text": [
      "\r",
      "                                                                                \r"
     ]
    }
   ],
   "source": [
    "# col(\"department\")\n",
    "df_partitioned.join(zones, df_partitioned.PULocationID==zones.LocationID).\\\n",
    "    groupBy('Zone').count().sort(col(\"count\").desc()).show(4)"
   ]
  },
  {
   "cell_type": "code",
   "execution_count": null,
   "id": "80ddfa49",
   "metadata": {},
   "outputs": [],
   "source": []
  }
 ],
 "metadata": {
  "kernelspec": {
   "display_name": "Python 3 (ipykernel)",
   "language": "python",
   "name": "python3"
  },
  "language_info": {
   "codemirror_mode": {
    "name": "ipython",
    "version": 3
   },
   "file_extension": ".py",
   "mimetype": "text/x-python",
   "name": "python",
   "nbconvert_exporter": "python",
   "pygments_lexer": "ipython3",
   "version": "3.11.2"
  }
 },
 "nbformat": 4,
 "nbformat_minor": 5
}
